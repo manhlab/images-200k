{
 "cells": [
  {
   "cell_type": "code",
   "execution_count": 15,
   "metadata": {
    "id": "yfkG3vsejvkQ"
   },
   "outputs": [],
   "source": [
    "from IPython.display import clear_output\n",
    "\n",
    "# make sure your kaggle api \"kaggle.json\" file in your drive\n",
    "!mkdir -p /root/.kaggle\n",
    "!echo '{\"username\":\"tarobxl\",\"key\":\"a4b1e63bbff7f44f713dce2525191ba1\"}' > /root/.kaggle/kaggle.json\n",
    "#! cp '/content/drive/My Drive/kaggle.json' /root/.kaggle # <---- path for kaggle.json file\n",
    "!chmod 400 /root/.kaggle/kaggle.json\n",
    "!cat /root/.kaggle/kaggle.json\n",
    "\n",
    "!pip uninstall -y kaggle >> quit\n",
    "!pip install --upgrade pip >> quit\n",
    "!pip install kaggle==1.5.6 >> quit\n",
    "!kaggle -v >> quit\n",
    "\n",
    "clear_output()"
   ]
  },
  {
   "cell_type": "code",
   "execution_count": 16,
   "metadata": {
    "colab": {
     "base_uri": "https://localhost:8080/"
    },
    "id": "bqe_BUXOkE3u",
    "outputId": "0bc42d37-6c50-4627-82ea-ce2aeaf2c1a6"
   },
   "outputs": [
    {
     "data": {
      "text/plain": [
       "['k200-tf-0-20210727-122841',\n",
       " 'k200-tf-1-20210727-123059',\n",
       " 'k200-tf-2-20210727-144220',\n",
       " 'k200-tf-3-20210727-170129',\n",
       " 'k200-tf-4-20210727-200848',\n",
       " 'k200-tf-5-20210728-174514',\n",
       " 'k200-tf-6-20210728-114118',\n",
       " 'k200-tf-7-20210728-115026',\n",
       " 'k200-tf-8-20210728-113919',\n",
       " 'k200-tf-9-20210728-113846',\n",
       " 'k200-tf-query-images-20210728-154427']"
      ]
     },
     "execution_count": 16,
     "metadata": {
      "tags": []
     },
     "output_type": "execute_result"
    }
   ],
   "source": [
    "filenames = ['../input/k200-tf-0-20210727-122841/data_features.pickle',\n",
    " '../input/k200-tf-1-20210727-123059/data_features.pickle',\n",
    " '../input/k200-tf-2-20210727-144220/data_features.pickle',\n",
    " '../input/k200-tf-3-20210727-170129/data_features.pickle',\n",
    " '../input/k200-tf-4-20210727-200848/data_features.pickle',\n",
    " '../input/k200-tf-5-20210728-174514/data_features.pickle',\n",
    " '../input/k200-tf-6-20210728-114118/data_features.pickle',\n",
    " '../input/k200-tf-7-20210728-115026/data_features.pickle',\n",
    " '../input/k200-tf-8-20210728-113919/data_features.pickle',\n",
    " '../input/k200-tf-9-20210728-113846/data_features.pickle',\n",
    " '../input/k200-tf-query-images-20210728-154427/data_features.pickle']\n",
    "\n",
    "datasets = [f.split(\"/\")[2] for f in filenames]\n",
    "datasets"
   ]
  },
  {
   "cell_type": "code",
   "execution_count": null,
   "metadata": {
    "colab": {
     "base_uri": "https://localhost:8080/"
    },
    "id": "wUMFE2VDj_me",
    "outputId": "937a48b8-0536-4071-a192-c508b1953184"
   },
   "outputs": [
    {
     "name": "stdout",
     "output_type": "stream",
     "text": [
      "Downloading k200-tf-0-20210727-122841.zip to /content\n",
      " 99% 722M/729M [00:04<00:00, 147MB/s]\n",
      "100% 729M/729M [00:04<00:00, 155MB/s]\n",
      "Downloading k200-tf-1-20210727-123059.zip to /content\n",
      "100% 727M/729M [00:04<00:00, 169MB/s]\n",
      "100% 729M/729M [00:04<00:00, 182MB/s]\n",
      "Downloading k200-tf-2-20210727-144220.zip to /content\n",
      "100% 729M/729M [00:04<00:00, 101MB/s] \n",
      "100% 729M/729M [00:04<00:00, 164MB/s]\n",
      "Downloading k200-tf-3-20210727-170129.zip to /content\n",
      " 99% 719M/729M [00:07<00:00, 129MB/s]\n",
      "100% 729M/729M [00:07<00:00, 100MB/s]\n",
      "Downloading k200-tf-4-20210727-200848.zip to /content\n",
      " 98% 714M/729M [00:04<00:00, 201MB/s]\n",
      "100% 729M/729M [00:04<00:00, 158MB/s]\n",
      "Downloading k200-tf-5-20210728-174514.zip to /content\n",
      "100% 728M/729M [00:06<00:00, 109MB/s] \n",
      "100% 729M/729M [00:06<00:00, 116MB/s]\n",
      "Downloading k200-tf-6-20210728-114118.zip to /content\n",
      " 99% 724M/729M [00:03<00:00, 176MB/s]\n",
      "100% 729M/729M [00:03<00:00, 199MB/s]\n"
     ]
    }
   ],
   "source": [
    "!mkdir -p features\n",
    "!rm -rf features/*\n",
    "!rm -rf *.pickle\n",
    "!rm -rf *.zip\n",
    "for dataset in datasets:\n",
    "    url_suffix = f\"tarobxl/{dataset}\"\n",
    "    !kaggle datasets download $url_suffix -p /content/ --unzip\n",
    "    !mkdir -p features/$dataset\n",
    "    !mv data_features.pickle features/$dataset/"
   ]
  },
  {
   "cell_type": "code",
   "execution_count": null,
   "metadata": {
    "id": "b3pomZhYnlmt"
   },
   "outputs": [],
   "source": [
    "import pandas as pd\n",
    "import numpy as np\n",
    "import glob\n",
    "import pickle\n",
    "import os\n",
    "import gc\n",
    "\n",
    "import h5py\n",
    "from tqdm import tqdm\n",
    "\n",
    "query_filename = datasets[-1]\n",
    "\n",
    "ids = []\n",
    "embeddings = []\n",
    "for dataset in tqdm(datasets):\n",
    "    filename = f\"features/{dataset}/data_features.pickle\"\n",
    "    if \"query\" in filename:\n",
    "        query_filename = filename\n",
    "        print(query_filename)\n",
    "        continue\n",
    "    file_to_read = open(filename, \"rb\")\n",
    "    loaded_features = pickle.load(file_to_read)\n",
    "    file_to_read.close()\n",
    "    \n",
    "    ids += loaded_features[\"ids\"]\n",
    "    embeddings += loaded_features[\"embeddings\"]\n",
    "    \n",
    "print(len(ids), len(embeddings))\n",
    "ids[0], embeddings[0]"
   ]
  },
  {
   "cell_type": "code",
   "execution_count": null,
   "metadata": {
    "id": "BtaqtFzToBuD"
   },
   "outputs": [],
   "source": [
    "ids, embeddings = zip(*sorted(zip(ids, embeddings)))\n",
    "print(ids[95763], embeddings[95763])\n",
    "\n",
    "X = np.vstack(embeddings)\n",
    "X.shape"
   ]
  },
  {
   "cell_type": "code",
   "execution_count": null,
   "metadata": {
    "id": "xyz0ihbFoMpl"
   },
   "outputs": [],
   "source": [
    "%%capture\n",
    "if False:\n",
    "    !pip install pca\n",
    "    from pca import pca\n",
    "    #nb_dim = 64 # max 256\n",
    "    #model = pca(n_components=nb_dim, normalize=True)\n",
    "    #results = model.fit_transform(X)"
   ]
  },
  {
   "cell_type": "markdown",
   "metadata": {
    "id": "ZR43Ymyhr8g8"
   },
   "source": []
  },
  {
   "cell_type": "code",
   "execution_count": null,
   "metadata": {
    "id": "DJJqUw7ipWoM"
   },
   "outputs": [],
   "source": [
    "if False:\n",
    "    from sklearn.decomposition import IncrementalPCA\n",
    "    transformer = IncrementalPCA(n_components=64, batch_size=200)\n",
    "    transformer.partial_fit(X[:1*1000, :])\n",
    "    X_transformed = transformer.fit_transform(X)\n",
    "    X_transformed.shape"
   ]
  },
  {
   "cell_type": "code",
   "execution_count": null,
   "metadata": {
    "id": "XvkM38cn7C3W"
   },
   "outputs": [],
   "source": [
    "from sklearn import decomposition\n",
    "\n",
    "n_comp = 64\n",
    "svd = decomposition.TruncatedSVD(n_components=n_comp, algorithm='arpack')\n",
    "svd.fit(X[:100*1000, :])\n",
    "print(svd.explained_variance_ratio_.sum())\n",
    "\n",
    "X_transformed = svd.transform(X)\n",
    "X_transformed.shape"
   ]
  },
  {
   "cell_type": "code",
   "execution_count": null,
   "metadata": {
    "id": "HEqETM8b9MLw"
   },
   "outputs": [],
   "source": [
    "file_to_read = open(query_filename, \"rb\")\n",
    "loaded_features = pickle.load(file_to_read)\n",
    "file_to_read.close()\n",
    "\n",
    "query_ids = loaded_features[\"ids\"]\n",
    "query_embeddings = loaded_features[\"embeddings\"]\n",
    "\n",
    "print(query_ids[0], query_embeddings[0])\n",
    "\n",
    "query_ids, query_embeddings = zip(*sorted(zip(query_ids, query_embeddings)))\n",
    "print(query_ids[38391], query_embeddings[38391])\n",
    "\n",
    "query_X = np.vstack(query_embeddings)\n",
    "query_X.shape"
   ]
  },
  {
   "cell_type": "code",
   "execution_count": null,
   "metadata": {
    "id": "EfvLysJx9cNZ"
   },
   "outputs": [],
   "source": [
    "query_X_transformed = svd.transform(query_X)\n",
    "query_X_transformed.shape"
   ]
  },
  {
   "cell_type": "code",
   "execution_count": null,
   "metadata": {
    "id": "AXbcV8D49XqZ"
   },
   "outputs": [],
   "source": [
    "import h5py\n",
    "import numpy as np\n",
    "\n",
    "M_ref = X_transformed #np.random.rand(1_000_000, 256).astype('float32')\n",
    "M_query = query_X_transformed #np.random.rand(50_000, 256).astype('float32')\n",
    "print(M_ref.shape, M_query.shape)\n",
    "\n",
    "qry_ids = ['Q' + str(x).zfill(5) for x in range(50_000)]\n",
    "ref_ids = ['R' + str(x).zfill(6) for x in range(1_000_000)]\n",
    "\n",
    "out = \"fb-isc-submission.h5\"\n",
    "with h5py.File(out, \"w\") as f:\n",
    "    f.create_dataset(\"query\", data=M_query)\n",
    "    f.create_dataset(\"reference\", data=M_ref)\n",
    "    f.create_dataset('query_ids', data=qry_ids)\n",
    "    f.create_dataset('reference_ids', data=ref_ids)"
   ]
  },
  {
   "cell_type": "code",
   "execution_count": null,
   "metadata": {
    "id": "2Mv_bXNB-rJW"
   },
   "outputs": [],
   "source": [
    "!ls -alh"
   ]
  },
  {
   "cell_type": "code",
   "execution_count": null,
   "metadata": {
    "id": "VzyL6DOY-4hN"
   },
   "outputs": [],
   "source": [
    "!curl --upload-file ./fb-isc-submission.h5 https://transfer.sh/fb-isc-submission.h5"
   ]
  },
  {
   "cell_type": "code",
   "execution_count": null,
   "metadata": {
    "id": "ygmFpnLt_M9E"
   },
   "outputs": [],
   "source": [
    "from google.colab import files\n",
    "files.download('fb-isc-submission.h5')"
   ]
  }
 ],
 "metadata": {
  "colab": {
   "collapsed_sections": [],
   "machine_shape": "hm",
   "name": "k200-pca.ipynb",
   "provenance": []
  },
  "kernelspec": {
   "display_name": "Python 3 (ipykernel)",
   "language": "python",
   "name": "python3"
  },
  "language_info": {
   "codemirror_mode": {
    "name": "ipython",
    "version": 3
   },
   "file_extension": ".py",
   "mimetype": "text/x-python",
   "name": "python",
   "nbconvert_exporter": "python",
   "pygments_lexer": "ipython3",
   "version": "3.9.1"
  }
 },
 "nbformat": 4,
 "nbformat_minor": 1
}
